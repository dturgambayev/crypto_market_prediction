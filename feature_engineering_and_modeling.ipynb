{
 "cells": [
  {
   "cell_type": "markdown",
   "id": "00046d13",
   "metadata": {},
   "source": [
    "# Crypto Market Prediction — Feature Engineering & Modeling\n",
    "\n",
    "This notebook focuses on transforming raw signals and engineered indicators into predictive features, training a model on them, and evaluating performance based on the competition’s target metric: **Pearson correlation** between predictions and true labels.\n",
    "\n",
    "---\n",
    "\n",
    "**Pipeline Structure:**\n",
    "1. Load pre-processed data\n",
    "2. Feature engineering\n",
    "3. Train/validation split (time-aware)\n",
    "4. Model training (baseline → optimized)\n",
    "5. Evaluation: Pearson correlation\n"
   ]
  },
  {
   "cell_type": "code",
   "execution_count": 1,
   "id": "01264911",
   "metadata": {},
   "outputs": [],
   "source": [
    "import pandas as pd\n",
    "import numpy as np\n",
    "import matplotlib.pyplot as plt\n",
    "import seaborn as sns\n",
    "\n",
    "from sklearn.model_selection import TimeSeriesSplit\n",
    "from sklearn.metrics import mean_squared_error\n",
    "from scipy.stats import pearsonr\n",
    "\n",
    "from catboost import CatBoostRegressor, Pool\n",
    "\n",
    "import warnings\n",
    "warnings.filterwarnings(\"ignore\")"
   ]
  },
  {
   "cell_type": "markdown",
   "id": "71644ede",
   "metadata": {},
   "source": [
    "## Load EDA-ready Data"
   ]
  },
  {
   "cell_type": "code",
   "execution_count": 2,
   "id": "ec18646a",
   "metadata": {},
   "outputs": [
    {
     "data": {
      "text/html": [
       "<div>\n",
       "<style scoped>\n",
       "    .dataframe tbody tr th:only-of-type {\n",
       "        vertical-align: middle;\n",
       "    }\n",
       "\n",
       "    .dataframe tbody tr th {\n",
       "        vertical-align: top;\n",
       "    }\n",
       "\n",
       "    .dataframe thead th {\n",
       "        text-align: right;\n",
       "    }\n",
       "</style>\n",
       "<table border=\"1\" class=\"dataframe\">\n",
       "  <thead>\n",
       "    <tr style=\"text-align: right;\">\n",
       "      <th></th>\n",
       "      <th>bid_qty</th>\n",
       "      <th>ask_qty</th>\n",
       "      <th>buy_qty</th>\n",
       "      <th>sell_qty</th>\n",
       "      <th>volume</th>\n",
       "      <th>X1</th>\n",
       "      <th>X2</th>\n",
       "      <th>X3</th>\n",
       "      <th>X4</th>\n",
       "      <th>X5</th>\n",
       "      <th>...</th>\n",
       "      <th>X772</th>\n",
       "      <th>X773</th>\n",
       "      <th>X774</th>\n",
       "      <th>X775</th>\n",
       "      <th>X776</th>\n",
       "      <th>X777</th>\n",
       "      <th>X778</th>\n",
       "      <th>X779</th>\n",
       "      <th>X780</th>\n",
       "      <th>label</th>\n",
       "    </tr>\n",
       "  </thead>\n",
       "  <tbody>\n",
       "    <tr>\n",
       "      <th>2023-03-01 00:00:00</th>\n",
       "      <td>15.283</td>\n",
       "      <td>8.425</td>\n",
       "      <td>176.405</td>\n",
       "      <td>44.984</td>\n",
       "      <td>221.389</td>\n",
       "      <td>0.181844</td>\n",
       "      <td>-0.637860</td>\n",
       "      <td>0.006652</td>\n",
       "      <td>0.136870</td>\n",
       "      <td>0.116698</td>\n",
       "      <td>...</td>\n",
       "      <td>0.333753</td>\n",
       "      <td>-0.009992</td>\n",
       "      <td>-0.695595</td>\n",
       "      <td>-0.444077</td>\n",
       "      <td>-0.191238</td>\n",
       "      <td>-0.184251</td>\n",
       "      <td>-0.471897</td>\n",
       "      <td>-0.625428</td>\n",
       "      <td>-0.553991</td>\n",
       "      <td>0.562539</td>\n",
       "    </tr>\n",
       "    <tr>\n",
       "      <th>2023-03-01 00:01:00</th>\n",
       "      <td>38.590</td>\n",
       "      <td>2.336</td>\n",
       "      <td>525.846</td>\n",
       "      <td>321.950</td>\n",
       "      <td>847.796</td>\n",
       "      <td>0.489497</td>\n",
       "      <td>-0.075619</td>\n",
       "      <td>0.431594</td>\n",
       "      <td>0.522400</td>\n",
       "      <td>0.475255</td>\n",
       "      <td>...</td>\n",
       "      <td>0.333657</td>\n",
       "      <td>-0.010040</td>\n",
       "      <td>-0.696226</td>\n",
       "      <td>-0.452866</td>\n",
       "      <td>-0.200082</td>\n",
       "      <td>-0.188929</td>\n",
       "      <td>-0.472842</td>\n",
       "      <td>-0.625832</td>\n",
       "      <td>-0.554426</td>\n",
       "      <td>0.533686</td>\n",
       "    </tr>\n",
       "    <tr>\n",
       "      <th>2023-03-01 00:02:00</th>\n",
       "      <td>0.442</td>\n",
       "      <td>60.250</td>\n",
       "      <td>159.227</td>\n",
       "      <td>136.369</td>\n",
       "      <td>295.596</td>\n",
       "      <td>0.260121</td>\n",
       "      <td>-0.444684</td>\n",
       "      <td>0.100695</td>\n",
       "      <td>0.224729</td>\n",
       "      <td>0.203282</td>\n",
       "      <td>...</td>\n",
       "      <td>0.333667</td>\n",
       "      <td>-0.010037</td>\n",
       "      <td>-0.696832</td>\n",
       "      <td>-0.461383</td>\n",
       "      <td>-0.208786</td>\n",
       "      <td>-0.193571</td>\n",
       "      <td>-0.473785</td>\n",
       "      <td>-0.626236</td>\n",
       "      <td>-0.554860</td>\n",
       "      <td>0.546505</td>\n",
       "    </tr>\n",
       "    <tr>\n",
       "      <th>2023-03-01 00:03:00</th>\n",
       "      <td>4.865</td>\n",
       "      <td>21.016</td>\n",
       "      <td>335.742</td>\n",
       "      <td>124.963</td>\n",
       "      <td>460.705</td>\n",
       "      <td>0.099976</td>\n",
       "      <td>-0.666728</td>\n",
       "      <td>-0.123858</td>\n",
       "      <td>0.019197</td>\n",
       "      <td>0.014459</td>\n",
       "      <td>...</td>\n",
       "      <td>0.333174</td>\n",
       "      <td>-0.010279</td>\n",
       "      <td>-0.697391</td>\n",
       "      <td>-0.469628</td>\n",
       "      <td>-0.217350</td>\n",
       "      <td>-0.198175</td>\n",
       "      <td>-0.474726</td>\n",
       "      <td>-0.626639</td>\n",
       "      <td>-0.555294</td>\n",
       "      <td>0.357703</td>\n",
       "    </tr>\n",
       "    <tr>\n",
       "      <th>2023-03-01 00:04:00</th>\n",
       "      <td>27.158</td>\n",
       "      <td>3.451</td>\n",
       "      <td>98.411</td>\n",
       "      <td>44.407</td>\n",
       "      <td>142.818</td>\n",
       "      <td>0.270893</td>\n",
       "      <td>-0.325973</td>\n",
       "      <td>0.116336</td>\n",
       "      <td>0.234311</td>\n",
       "      <td>0.214073</td>\n",
       "      <td>...</td>\n",
       "      <td>0.333171</td>\n",
       "      <td>-0.010283</td>\n",
       "      <td>-0.697940</td>\n",
       "      <td>-0.477622</td>\n",
       "      <td>-0.225780</td>\n",
       "      <td>-0.202745</td>\n",
       "      <td>-0.475666</td>\n",
       "      <td>-0.627043</td>\n",
       "      <td>-0.555728</td>\n",
       "      <td>0.362452</td>\n",
       "    </tr>\n",
       "  </tbody>\n",
       "</table>\n",
       "<p>5 rows × 786 columns</p>\n",
       "</div>"
      ],
      "text/plain": [
       "                     bid_qty  ask_qty  buy_qty  sell_qty   volume        X1  \\\n",
       "2023-03-01 00:00:00   15.283    8.425  176.405    44.984  221.389  0.181844   \n",
       "2023-03-01 00:01:00   38.590    2.336  525.846   321.950  847.796  0.489497   \n",
       "2023-03-01 00:02:00    0.442   60.250  159.227   136.369  295.596  0.260121   \n",
       "2023-03-01 00:03:00    4.865   21.016  335.742   124.963  460.705  0.099976   \n",
       "2023-03-01 00:04:00   27.158    3.451   98.411    44.407  142.818  0.270893   \n",
       "\n",
       "                           X2        X3        X4        X5  ...      X772  \\\n",
       "2023-03-01 00:00:00 -0.637860  0.006652  0.136870  0.116698  ...  0.333753   \n",
       "2023-03-01 00:01:00 -0.075619  0.431594  0.522400  0.475255  ...  0.333657   \n",
       "2023-03-01 00:02:00 -0.444684  0.100695  0.224729  0.203282  ...  0.333667   \n",
       "2023-03-01 00:03:00 -0.666728 -0.123858  0.019197  0.014459  ...  0.333174   \n",
       "2023-03-01 00:04:00 -0.325973  0.116336  0.234311  0.214073  ...  0.333171   \n",
       "\n",
       "                         X773      X774      X775      X776      X777  \\\n",
       "2023-03-01 00:00:00 -0.009992 -0.695595 -0.444077 -0.191238 -0.184251   \n",
       "2023-03-01 00:01:00 -0.010040 -0.696226 -0.452866 -0.200082 -0.188929   \n",
       "2023-03-01 00:02:00 -0.010037 -0.696832 -0.461383 -0.208786 -0.193571   \n",
       "2023-03-01 00:03:00 -0.010279 -0.697391 -0.469628 -0.217350 -0.198175   \n",
       "2023-03-01 00:04:00 -0.010283 -0.697940 -0.477622 -0.225780 -0.202745   \n",
       "\n",
       "                         X778      X779      X780     label  \n",
       "2023-03-01 00:00:00 -0.471897 -0.625428 -0.553991  0.562539  \n",
       "2023-03-01 00:01:00 -0.472842 -0.625832 -0.554426  0.533686  \n",
       "2023-03-01 00:02:00 -0.473785 -0.626236 -0.554860  0.546505  \n",
       "2023-03-01 00:03:00 -0.474726 -0.626639 -0.555294  0.357703  \n",
       "2023-03-01 00:04:00 -0.475666 -0.627043 -0.555728  0.362452  \n",
       "\n",
       "[5 rows x 786 columns]"
      ]
     },
     "execution_count": 2,
     "metadata": {},
     "output_type": "execute_result"
    }
   ],
   "source": [
    "train = pd.read_parquet(\"data/train.parquet\", engine=\"pyarrow\")\n",
    "df = pd.read_parquet(\"data/train.parquet\", engine=\"pyarrow\")\n",
    "\n",
    "train.index = pd.to_datetime(train.index)\n",
    "df.index = pd.to_datetime(df.index)\n",
    "train = train.sort_index()\n",
    "df = df.sort_index()\n",
    "train.head()"
   ]
  },
  {
   "cell_type": "code",
   "execution_count": 3,
   "id": "f84216c9",
   "metadata": {},
   "outputs": [
    {
     "name": "stdout",
     "output_type": "stream",
     "text": [
      "label      0\n",
      "bid_qty    0\n",
      "X765       0\n",
      "X764       0\n",
      "X763       0\n",
      "X762       0\n",
      "X761       0\n",
      "X760       0\n",
      "X759       0\n",
      "X758       0\n",
      "dtype: int64\n"
     ]
    }
   ],
   "source": [
    "print(train.isna().sum().sort_values(ascending=False).head(10))"
   ]
  },
  {
   "cell_type": "markdown",
   "id": "90c2300c",
   "metadata": {},
   "source": [
    "## Feature Engineering"
   ]
  },
  {
   "cell_type": "code",
   "execution_count": null,
   "id": "17d73e15",
   "metadata": {},
   "outputs": [],
   "source": [
    "# train['buy_pressure'] = train['buy_qty'] / (train['buy_qty'] + train['sell_qty'] + 1e-5)\n",
    "# train['bid_ask_ratio'] = train['bid_qty'] / (train['bid_qty'] + train['ask_qty'] + 1e-5)\n",
    "\n",
    "# train['volume_rolling_mean_10'] = train['volume'].shift(1).rolling(10).mean()\n",
    "# train['buy_pressure_rolling_std_10'] = train['buy_pressure'].shift(1).rolling(10).std()\n",
    "# train['rolling_mean_5'] = train['volume'].shift(1).rolling(5).mean()\n",
    "\n",
    "# train['log_volume'] = np.log1p(train['volume'])\n",
    "# train['delta_bid_ask'] = train['bid_qty'] - train['ask_qty']\n",
    "# train['order_imbalance'] = (train['bid_qty'] - train['ask_qty']) / (train['bid_qty'] + train['ask_qty'] + 1e-5)\n",
    "# train['volatility_5'] = train['volume'].shift(1).rolling(5).std()\n",
    "\n",
    "# train['buy_pressure_x_bidask'] = train['buy_pressure'] * train['bid_ask_ratio']\n",
    "# train['volume_to_volatility'] = train['volume'] / (train['volatility_5'] + 1e-5)\n",
    "\n",
    "# train['label_lag1'] = train['label'].shift(1)\n",
    "# train['return_lag1'] = train['label_lag1'] - train['label_lag1'].shift(1)"
   ]
  },
  {
   "cell_type": "code",
   "execution_count": 5,
   "id": "3551a1ca",
   "metadata": {},
   "outputs": [],
   "source": [
    "df['liq_imbalance'] = (df['bid_qty'] - df['ask_qty']) / (df['bid_qty'] + df['ask_qty'] + 1e-5)\n",
    "df['order_pressure'] = df['buy_qty'] - df['sell_qty']\n",
    "df['aggressiveness'] = (df['buy_qty'] + df['sell_qty']) / (df['bid_qty'] + df['ask_qty'] + 1e-5)\n",
    "df['volatility_5'] = df['volume'].rolling(5, min_periods=1).std()\n",
    "df['mean_pressure_3'] = (df['buy_qty'] - df['sell_qty']).rolling(3, min_periods=1).mean()"
   ]
  },
  {
   "cell_type": "code",
   "execution_count": 6,
   "id": "bb1fd517",
   "metadata": {},
   "outputs": [],
   "source": [
    "train.dropna(inplace=True)\n",
    "# df.dropna(inplace=True)"
   ]
  },
  {
   "cell_type": "code",
   "execution_count": null,
   "id": "152811fc",
   "metadata": {},
   "outputs": [],
   "source": [
    "X_cols = [col for col in df.columns if col.startswith(\"X\")]\n",
    "X_data = df[X_cols]\n",
    "from sklearn.decomposition import PCA\n",
    "pca = PCA(n_components=10)\n",
    "pca_features = pca.fit_transform(X_data)\n",
    "for i in range(10):\n",
    "    df[f'pca_{i}'] = pca_features[:, i]"
   ]
  },
  {
   "cell_type": "code",
   "execution_count": null,
   "id": "c446e5b0",
   "metadata": {},
   "outputs": [
    {
     "name": "stdout",
     "output_type": "stream",
     "text": [
      "0:\tlearn: 0.6302824\ttest: 0.7129970\tbest: 0.7129970 (0)\ttotal: 205ms\tremaining: 10m 14s\n",
      "100:\tlearn: 0.6217953\ttest: 0.7092899\tbest: 0.7092899 (100)\ttotal: 5.7s\tremaining: 2m 43s\n",
      "200:\tlearn: 0.6166978\ttest: 0.7084658\tbest: 0.7084489 (191)\ttotal: 10.9s\tremaining: 2m 31s\n",
      "300:\tlearn: 0.6127069\ttest: 0.7084253\tbest: 0.7083603 (247)\ttotal: 16s\tremaining: 2m 23s\n",
      "400:\tlearn: 0.6093670\ttest: 0.7084875\tbest: 0.7082895 (346)\ttotal: 21.1s\tremaining: 2m 16s\n",
      "500:\tlearn: 0.6066475\ttest: 0.7085121\tbest: 0.7082895 (346)\ttotal: 26.2s\tremaining: 2m 10s\n",
      "Stopped by overfitting detector  (200 iterations wait)\n",
      "\n",
      "bestTest = 0.7082895104\n",
      "bestIteration = 346\n",
      "\n",
      "Shrink model to first 347 iterations.\n",
      "Validation Pearson Correlation: 0.0721124027071477\n"
     ]
    }
   ],
   "source": [
    "# from catboost import CatBoostRegressor\n",
    "# from sklearn.model_selection import train_test_split\n",
    "# from scipy.stats import pearsonr\n",
    "\n",
    "# # Features to use\n",
    "# features = ['liq_imbalance', 'order_pressure', 'aggressiveness', 'volatility_5', 'mean_pressure_3'] + \\\n",
    "#            [f'pca_{i}' for i in range(10)]\n",
    "\n",
    "# X = df[features].fillna(0)\n",
    "# y = df['label']\n",
    "\n",
    "# X_train, X_val, y_train, y_val = train_test_split(X, y, shuffle=False, test_size=0.1)\n",
    "\n",
    "# model = CatBoostRegressor(\n",
    "#     iterations=3000,\n",
    "#     learning_rate=0.01,\n",
    "#     depth=8,\n",
    "#     loss_function='MAE',\n",
    "#     eval_metric='MAE',\n",
    "#     early_stopping_rounds=200,\n",
    "#     verbose=100,\n",
    "#     random_seed=42,\n",
    "#     task_type='CPU'\n",
    "# )\n",
    "\n",
    "# model.fit(\n",
    "#     X_train, y_train,\n",
    "#     eval_set=(X_val, y_val),\n",
    "#     use_best_model=True\n",
    "# )\n",
    "\n",
    "# # Pearson на валидации\n",
    "# from scipy.stats import pearsonr\n",
    "# val_preds = model.predict(X_val)\n",
    "# val_corr = pearsonr(val_preds, y_val)[0]\n",
    "# print(\"Validation Pearson Correlation:\", val_corr)"
   ]
  },
  {
   "cell_type": "code",
   "execution_count": null,
   "id": "b7c416b3",
   "metadata": {},
   "outputs": [
    {
     "name": "stdout",
     "output_type": "stream",
     "text": [
      "Learning rate set to 0.200673\n",
      "0:\tlearn: 0.9989381\ttest: 1.0012998\tbest: 1.0012998 (0)\ttotal: 298ms\tremaining: 2m 28s\n",
      "100:\tlearn: 0.7339254\ttest: 0.7415929\tbest: 0.7415929 (100)\ttotal: 25.6s\tremaining: 1m 41s\n",
      "200:\tlearn: 0.6061887\ttest: 0.6175772\tbest: 0.6175772 (200)\ttotal: 49.5s\tremaining: 1m 13s\n",
      "300:\tlearn: 0.5219721\ttest: 0.5358874\tbest: 0.5358874 (300)\ttotal: 1m 13s\tremaining: 48.7s\n",
      "400:\tlearn: 0.4610993\ttest: 0.4771497\tbest: 0.4771497 (400)\ttotal: 1m 37s\tremaining: 24.1s\n",
      "499:\tlearn: 0.4164863\ttest: 0.4345756\tbest: 0.4345756 (499)\ttotal: 2m 1s\tremaining: 0us\n",
      "\n",
      "bestTest = 0.4345756415\n",
      "bestIteration = 499\n",
      "\n",
      "['X758', 'X780', 'X613', 'X757', 'X611', 'X769', 'X344', 'X466', 'X752', 'X683', 'X608', 'X777', 'X425', 'X750', 'X772', 'X174', 'X778', 'X779', 'X445', 'X508', 'X421', 'X614', 'X576', 'X428', 'X385', 'X751', 'X501', 'X343', 'X610', 'X337', 'X591', 'X180', 'X612', 'X759', 'X285', 'X383', 'X415', 'X96', 'X684', 'X219', 'X588', 'X169', 'X178', 'X198', 'X181', 'X341', 'X97', 'X589', 'X682', 'X300']\n"
     ]
    }
   ],
   "source": [
    "from catboost import CatBoostRegressor\n",
    "from sklearn.model_selection import train_test_split\n",
    "\n",
    "\n",
    "X_cols = [col for col in df.columns if col.startswith(\"X\")]\n",
    "X = df[X_cols]\n",
    "y = df[\"label\"]\n",
    "\n",
    "\n",
    "X_train, X_val, y_train, y_val = train_test_split(X, y, test_size=0.2, random_state=42)\n",
    "\n",
    "\n",
    "model = CatBoostRegressor(verbose=100, iterations=500, early_stopping_rounds=50)\n",
    "model.fit(X_train, y_train, eval_set=(X_val, y_val))\n",
    "\n",
    "\n",
    "importances = model.get_feature_importance()\n",
    "feature_scores = pd.Series(importances, index=X.columns).sort_values(ascending=False)\n",
    "\n",
    "top_features = feature_scores.head(50).index.tolist()\n",
    "print(top_features)\n"
   ]
  },
  {
   "cell_type": "code",
   "execution_count": 12,
   "id": "3fcef0a7",
   "metadata": {},
   "outputs": [
    {
     "name": "stdout",
     "output_type": "stream",
     "text": [
      "0:\tlearn: 1.0079377\ttest: 1.0092761\tbest: 1.0092761 (0)\ttotal: 44.5ms\tremaining: 44.4s\n",
      "100:\tlearn: 0.9291534\ttest: 0.9331492\tbest: 0.9331492 (100)\ttotal: 4.01s\tremaining: 35.7s\n",
      "200:\tlearn: 0.8804966\ttest: 0.8846539\tbest: 0.8846539 (200)\ttotal: 7.8s\tremaining: 31s\n",
      "300:\tlearn: 0.8446849\ttest: 0.8488407\tbest: 0.8488407 (300)\ttotal: 11.5s\tremaining: 26.8s\n",
      "400:\tlearn: 0.8126154\ttest: 0.8168993\tbest: 0.8168993 (400)\ttotal: 15.3s\tremaining: 22.8s\n",
      "500:\tlearn: 0.7842067\ttest: 0.7889847\tbest: 0.7889847 (500)\ttotal: 19.1s\tremaining: 19.1s\n",
      "600:\tlearn: 0.7583205\ttest: 0.7633527\tbest: 0.7633527 (600)\ttotal: 22.9s\tremaining: 15.2s\n",
      "700:\tlearn: 0.7342236\ttest: 0.7394157\tbest: 0.7394157 (700)\ttotal: 26.7s\tremaining: 11.4s\n",
      "800:\tlearn: 0.7118189\ttest: 0.7176631\tbest: 0.7176631 (800)\ttotal: 30.6s\tremaining: 7.6s\n",
      "900:\tlearn: 0.6926589\ttest: 0.6990954\tbest: 0.6990954 (900)\ttotal: 34.4s\tremaining: 3.78s\n",
      "999:\tlearn: 0.6751699\ttest: 0.6818078\tbest: 0.6818078 (999)\ttotal: 38.3s\tremaining: 0us\n",
      "\n",
      "bestTest = 0.681807766\n",
      "bestIteration = 999\n",
      "\n",
      "Validation Pearson Correlation: 0.7924\n"
     ]
    }
   ],
   "source": [
    "from sklearn.metrics import r2_score\n",
    "from scipy.stats import pearsonr\n",
    "\n",
    "model = CatBoostRegressor(\n",
    "    learning_rate=0.03,\n",
    "    depth=6,\n",
    "    l2_leaf_reg=3,\n",
    "    iterations=1000,\n",
    "    early_stopping_rounds=100,\n",
    "    verbose=100\n",
    ")\n",
    "\n",
    "model.fit(X_train[top_features], y_train, eval_set=(X_val[top_features], y_val))\n",
    "y_pred = model.predict(X_val[top_features])\n",
    "\n",
    "# Pearson\n",
    "pearson = pearsonr(y_val, y_pred)[0]\n",
    "print(f\"Validation Pearson Correlation: {pearson:.4f}\")"
   ]
  },
  {
   "cell_type": "markdown",
   "id": "8b4ea0b9",
   "metadata": {},
   "source": [
    "## Train/Validation Split (Time-based)"
   ]
  },
  {
   "cell_type": "code",
   "execution_count": null,
   "id": "d4bfbc60",
   "metadata": {},
   "outputs": [],
   "source": [
    "X = train.drop(columns=['label'])\n",
    "y = train['label']"
   ]
  },
  {
   "cell_type": "code",
   "execution_count": null,
   "id": "8ded21f4",
   "metadata": {},
   "outputs": [],
   "source": [
    "cutoff_idx = int(len(train) * 0.9)\n",
    "X_train, X_val = X.iloc[:cutoff_idx], X.iloc[cutoff_idx:]\n",
    "y_train, y_val = y.iloc[:cutoff_idx], y.iloc[cutoff_idx:]"
   ]
  },
  {
   "cell_type": "code",
   "execution_count": null,
   "id": "01d28f98",
   "metadata": {},
   "outputs": [
    {
     "name": "stdout",
     "output_type": "stream",
     "text": [
      "Train: (473288, 796)\n",
      "Validation: (52588, 796)\n"
     ]
    }
   ],
   "source": [
    "print(\"Train:\", X_train.shape)\n",
    "print(\"Validation:\", X_val.shape)"
   ]
  },
  {
   "cell_type": "code",
   "execution_count": null,
   "id": "e98880f0",
   "metadata": {},
   "outputs": [
    {
     "name": "stdout",
     "output_type": "stream",
     "text": [
      "[]\n"
     ]
    }
   ],
   "source": [
    "print([col for col in X_train.columns if 'label' in col])"
   ]
  },
  {
   "cell_type": "markdown",
   "id": "4d072da5",
   "metadata": {},
   "source": [
    "## Model Training — CatBoost Regressor"
   ]
  },
  {
   "cell_type": "code",
   "execution_count": null,
   "id": "b799dd04",
   "metadata": {},
   "outputs": [
    {
     "name": "stdout",
     "output_type": "stream",
     "text": [
      "0:\tlearn: 1.0043232\ttest: 1.0512040\tbest: 1.0512040 (0)\ttotal: 2.5s\tremaining: 2h 5m 11s\n",
      "100:\tlearn: 0.9283288\ttest: 1.0512255\tbest: 1.0507857 (70)\ttotal: 3m 46s\tremaining: 1h 48m 20s\n",
      "200:\tlearn: 0.8709245\ttest: 1.0521361\tbest: 1.0507857 (70)\ttotal: 7m 25s\tremaining: 1h 43m 20s\n",
      "300:\tlearn: 0.8218874\ttest: 1.0553387\tbest: 1.0507857 (70)\ttotal: 10m 50s\tremaining: 1h 37m 11s\n",
      "400:\tlearn: 0.7802890\ttest: 1.0556091\tbest: 1.0507857 (70)\ttotal: 14m 21s\tremaining: 1h 33m 3s\n",
      "500:\tlearn: 0.7425269\ttest: 1.0579079\tbest: 1.0507857 (70)\ttotal: 18m 7s\tremaining: 1h 30m 22s\n",
      "600:\tlearn: 0.7083073\ttest: 1.0606649\tbest: 1.0507857 (70)\ttotal: 22m 5s\tremaining: 1h 28m 11s\n",
      "700:\tlearn: 0.6767518\ttest: 1.0628343\tbest: 1.0507857 (70)\ttotal: 26m 19s\tremaining: 1h 26m 21s\n",
      "800:\tlearn: 0.6485344\ttest: 1.0654891\tbest: 1.0507857 (70)\ttotal: 30m 32s\tremaining: 1h 23m 49s\n",
      "900:\tlearn: 0.6222754\ttest: 1.0686283\tbest: 1.0507857 (70)\ttotal: 34m 39s\tremaining: 1h 20m 45s\n",
      "1000:\tlearn: 0.5987636\ttest: 1.0727453\tbest: 1.0507857 (70)\ttotal: 38m 23s\tremaining: 1h 16m 40s\n",
      "Stopped by overfitting detector  (1000 iterations wait)\n",
      "\n",
      "bestTest = 1.050785658\n",
      "bestIteration = 70\n",
      "\n",
      "Shrink model to first 71 iterations.\n"
     ]
    },
    {
     "data": {
      "text/plain": [
       "<catboost.core.CatBoostRegressor at 0x2a60fc3a3c0>"
      ]
     },
     "execution_count": 10,
     "metadata": {},
     "output_type": "execute_result"
    }
   ],
   "source": [
    "# model = CatBoostRegressor(\n",
    "#     iterations=2000,\n",
    "#     learning_rate=0.01,\n",
    "#     depth=8,\n",
    "#     loss_function='MAE',         \n",
    "#     eval_metric='MAE',           \n",
    "#     early_stopping_rounds=1000,   \n",
    "#     verbose=100,\n",
    "#     random_seed=42,\n",
    "#     task_type='CPU'\n",
    "# )\n",
    "# model.fit(\n",
    "#     X_train, y_train,\n",
    "#     eval_set=(X_val, y_val),\n",
    "#     use_best_model=True\n",
    "# )"
   ]
  },
  {
   "cell_type": "markdown",
   "id": "f20e3692",
   "metadata": {},
   "source": [
    "## Validation Performance"
   ]
  },
  {
   "cell_type": "code",
   "execution_count": null,
   "id": "ae05d83b",
   "metadata": {},
   "outputs": [
    {
     "name": "stdout",
     "output_type": "stream",
     "text": [
      "Validation Pearson Correlation: 0.06779\n"
     ]
    }
   ],
   "source": [
    "# val_preds = model.predict(X_val)\n",
    "\n",
    "# corr, _ = pearsonr(val_preds, y_val)\n",
    "# print(f\"Validation Pearson Correlation: {corr:.5f}\")"
   ]
  },
  {
   "cell_type": "code",
   "execution_count": null,
   "id": "fafd5215",
   "metadata": {},
   "outputs": [],
   "source": [
    "# def evaluate_custom_model(train_df, feature_list, model_params, label_col='label', test_size=0.1, random_state=42):\n",
    "#     from catboost import CatBoostRegressor\n",
    "#     from sklearn.model_selection import train_test_split\n",
    "#     from scipy.stats import pearsonr\n",
    "#     import time\n",
    "\n",
    "#     \n",
    "#     df = train_df[feature_list + [label_col]].dropna()\n",
    "#     X = df[feature_list]\n",
    "#     y = df[label_col]\n",
    "\n",
    "#     # Time-based split\n",
    "#     X_train, X_val, y_train, y_val = train_test_split(X, y, test_size=test_size, shuffle=False)\n",
    "\n",
    "#     \n",
    "#     model = CatBoostRegressor(**model_params)\n",
    "\n",
    "#     \n",
    "#     start = time.time()\n",
    "#     model.fit(X_train, y_train, eval_set=(X_val, y_val), use_best_model=True)\n",
    "#     duration = time.time() - start\n",
    "\n",
    "#     \n",
    "#     val_preds = model.predict(X_val)\n",
    "#     corr, _ = pearsonr(val_preds, y_val)\n",
    "\n",
    "#     \n",
    "#     print(\"=\" * 60)\n",
    "#     print(f\"Features: {feature_list}\")\n",
    "#     print(f\"Pearson Correlation: {corr:.5f}\")\n",
    "#     print(f\"⏱Training time: {duration:.2f} sec\")\n",
    "#     print(f\"Best iteration: {model.get_best_iteration()}\")\n",
    "#     print(\"=\" * 60)\n",
    "\n",
    "#     return corr, duration, model.get_best_iteration()"
   ]
  },
  {
   "cell_type": "code",
   "execution_count": null,
   "id": "b221bf65",
   "metadata": {},
   "outputs": [],
   "source": [
    "# feature_list = [\n",
    "#     'buy_pressure',\n",
    "#     'bid_ask_ratio',\n",
    "#     'volume_rolling_mean_10',\n",
    "#     'buy_pressure_rolling_std_10',\n",
    "#     'rolling_mean_5',\n",
    "#     'log_volume',\n",
    "#     'delta_bid_ask',\n",
    "#     'order_imbalance',\n",
    "#     'volatility_5',\n",
    "#     'buy_pressure_x_bidask',\n",
    "#     'volume_to_volatility'\n",
    "# ]"
   ]
  },
  {
   "cell_type": "code",
   "execution_count": null,
   "id": "628dd35c",
   "metadata": {},
   "outputs": [],
   "source": [
    "# model_params = {\n",
    "#     'iterations': 2000,\n",
    "#     'learning_rate': 0.01,\n",
    "#     'depth': 8,\n",
    "#     #'grow_policy': 'Lossguide',\n",
    "#     #'min_data_in_leaf': 5,\n",
    "#     'loss_function': 'MAE',\n",
    "#     'eval_metric': 'MAE',\n",
    "#     'early_stopping_rounds': 200,\n",
    "#     #'l2_leaf_reg': 3,\n",
    "#     'random_seed': 42,\n",
    "#     'verbose': 100,\n",
    "#     'task_type': 'CPU'\n",
    "# }"
   ]
  },
  {
   "cell_type": "code",
   "execution_count": null,
   "id": "b4deed38",
   "metadata": {},
   "outputs": [],
   "source": [
    "# evaluate_custom_model(train, feature_list, model_params)"
   ]
  },
  {
   "cell_type": "markdown",
   "id": "b312d726",
   "metadata": {},
   "source": [
    "## Another model"
   ]
  },
  {
   "cell_type": "code",
   "execution_count": null,
   "id": "5cc275ad",
   "metadata": {},
   "outputs": [
    {
     "name": "stdout",
     "output_type": "stream",
     "text": [
      "Ridge Pearson: 0.08240077870100909\n"
     ]
    }
   ],
   "source": [
    "from sklearn.linear_model import Ridge\n",
    "\n",
    "ridge = Ridge()\n",
    "ridge.fit(X_train, y_train)\n",
    "preds = ridge.predict(X_val)\n",
    "print(\"Ridge Pearson:\", np.corrcoef(preds, y_val)[0, 1])"
   ]
  },
  {
   "cell_type": "code",
   "execution_count": null,
   "id": "f4fb1dde",
   "metadata": {},
   "outputs": [
    {
     "data": {
      "image/png": "[encoded data removed]",
      "text/plain": [
       "<Figure size 640x480 with 1 Axes>"
      ]
     },
     "metadata": {},
     "output_type": "display_data"
    }
   ],
   "source": [
    "sns.histplot(val_preds, kde=True, color='orange', label='Predictions')\n",
    "sns.histplot(y_val, kde=True, color='blue', label='True Labels')\n",
    "plt.legend()\n",
    "plt.title(\"Distribution of Predictions vs. True Labels\")\n",
    "plt.grid(True)\n",
    "plt.show()"
   ]
  },
  {
   "cell_type": "code",
   "execution_count": null,
   "id": "06f539bc",
   "metadata": {},
   "outputs": [
    {
     "data": {
      "image/png": "[encoded data removed]",
      "text/plain": [
       "<Figure size 1200x400 with 1 Axes>"
      ]
     },
     "metadata": {},
     "output_type": "display_data"
    }
   ],
   "source": [
    "import matplotlib.pyplot as plt\n",
    "\n",
    "val_preds = model.predict(X_val)\n",
    "\n",
    "plt.figure(figsize=(12, 4))\n",
    "plt.plot(y_val.values[:300], label='True')\n",
    "plt.plot(val_preds[:300], label='Predicted')\n",
    "plt.legend()\n",
    "plt.grid(True)\n",
    "plt.title(\"Predictions vs True Labels (first 300)\")\n",
    "plt.show()"
   ]
  },
  {
   "cell_type": "markdown",
   "id": "294f7f65",
   "metadata": {},
   "source": [
    "### Feature Importance"
   ]
  },
  {
   "cell_type": "code",
   "execution_count": null,
   "id": "50e301e5",
   "metadata": {},
   "outputs": [
    {
     "data": {
      "text/html": [
       "<div>\n",
       "<style scoped>\n",
       "    .dataframe tbody tr th:only-of-type {\n",
       "        vertical-align: middle;\n",
       "    }\n",
       "\n",
       "    .dataframe tbody tr th {\n",
       "        vertical-align: top;\n",
       "    }\n",
       "\n",
       "    .dataframe thead th {\n",
       "        text-align: right;\n",
       "    }\n",
       "</style>\n",
       "<table border=\"1\" class=\"dataframe\">\n",
       "  <thead>\n",
       "    <tr style=\"text-align: right;\">\n",
       "      <th></th>\n",
       "      <th>Feature Id</th>\n",
       "      <th>Importances</th>\n",
       "    </tr>\n",
       "  </thead>\n",
       "  <tbody>\n",
       "    <tr>\n",
       "      <th>0</th>\n",
       "      <td>X466</td>\n",
       "      <td>7.167746</td>\n",
       "    </tr>\n",
       "    <tr>\n",
       "      <th>1</th>\n",
       "      <td>X613</td>\n",
       "      <td>3.377692</td>\n",
       "    </tr>\n",
       "    <tr>\n",
       "      <th>2</th>\n",
       "      <td>X778</td>\n",
       "      <td>3.251610</td>\n",
       "    </tr>\n",
       "    <tr>\n",
       "      <th>3</th>\n",
       "      <td>X282</td>\n",
       "      <td>3.126848</td>\n",
       "    </tr>\n",
       "    <tr>\n",
       "      <th>4</th>\n",
       "      <td>X752</td>\n",
       "      <td>2.931843</td>\n",
       "    </tr>\n",
       "    <tr>\n",
       "      <th>5</th>\n",
       "      <td>X758</td>\n",
       "      <td>2.856695</td>\n",
       "    </tr>\n",
       "    <tr>\n",
       "      <th>6</th>\n",
       "      <td>X198</td>\n",
       "      <td>2.711958</td>\n",
       "    </tr>\n",
       "    <tr>\n",
       "      <th>7</th>\n",
       "      <td>X682</td>\n",
       "      <td>2.387481</td>\n",
       "    </tr>\n",
       "    <tr>\n",
       "      <th>8</th>\n",
       "      <td>X169</td>\n",
       "      <td>2.293270</td>\n",
       "    </tr>\n",
       "    <tr>\n",
       "      <th>9</th>\n",
       "      <td>X385</td>\n",
       "      <td>2.279095</td>\n",
       "    </tr>\n",
       "    <tr>\n",
       "      <th>10</th>\n",
       "      <td>X425</td>\n",
       "      <td>1.775215</td>\n",
       "    </tr>\n",
       "    <tr>\n",
       "      <th>11</th>\n",
       "      <td>X283</td>\n",
       "      <td>1.633380</td>\n",
       "    </tr>\n",
       "    <tr>\n",
       "      <th>12</th>\n",
       "      <td>X614</td>\n",
       "      <td>1.531222</td>\n",
       "    </tr>\n",
       "    <tr>\n",
       "      <th>13</th>\n",
       "      <td>X683</td>\n",
       "      <td>1.363568</td>\n",
       "    </tr>\n",
       "    <tr>\n",
       "      <th>14</th>\n",
       "      <td>X776</td>\n",
       "      <td>1.328914</td>\n",
       "    </tr>\n",
       "    <tr>\n",
       "      <th>15</th>\n",
       "      <td>X759</td>\n",
       "      <td>1.294975</td>\n",
       "    </tr>\n",
       "    <tr>\n",
       "      <th>16</th>\n",
       "      <td>X679</td>\n",
       "      <td>1.292932</td>\n",
       "    </tr>\n",
       "    <tr>\n",
       "      <th>17</th>\n",
       "      <td>X22</td>\n",
       "      <td>1.205836</td>\n",
       "    </tr>\n",
       "    <tr>\n",
       "      <th>18</th>\n",
       "      <td>X335</td>\n",
       "      <td>1.023479</td>\n",
       "    </tr>\n",
       "    <tr>\n",
       "      <th>19</th>\n",
       "      <td>X344</td>\n",
       "      <td>1.002707</td>\n",
       "    </tr>\n",
       "  </tbody>\n",
       "</table>\n",
       "</div>"
      ],
      "text/plain": [
       "   Feature Id  Importances\n",
       "0        X466     7.167746\n",
       "1        X613     3.377692\n",
       "2        X778     3.251610\n",
       "3        X282     3.126848\n",
       "4        X752     2.931843\n",
       "5        X758     2.856695\n",
       "6        X198     2.711958\n",
       "7        X682     2.387481\n",
       "8        X169     2.293270\n",
       "9        X385     2.279095\n",
       "10       X425     1.775215\n",
       "11       X283     1.633380\n",
       "12       X614     1.531222\n",
       "13       X683     1.363568\n",
       "14       X776     1.328914\n",
       "15       X759     1.294975\n",
       "16       X679     1.292932\n",
       "17        X22     1.205836\n",
       "18       X335     1.023479\n",
       "19       X344     1.002707"
      ]
     },
     "execution_count": 19,
     "metadata": {},
     "output_type": "execute_result"
    }
   ],
   "source": [
    "importances = model.get_feature_importance(prettified=True)\n",
    "importances.head(20)"
   ]
  },
  {
   "cell_type": "markdown",
   "id": "5e285346",
   "metadata": {},
   "source": [
    "### Save the Model"
   ]
  },
  {
   "cell_type": "code",
   "execution_count": null,
   "id": "67f9eace",
   "metadata": {},
   "outputs": [],
   "source": [
    "model.save_model(\"catboost_crypto_model.cbm\")"
   ]
  },
  {
   "cell_type": "markdown",
   "id": "54b9fee7",
   "metadata": {},
   "source": [
    "## Summary"
   ]
  },
  {
   "cell_type": "markdown",
   "id": "da8da7ba",
   "metadata": {},
   "source": [
    "### Key Takeaways:\n",
    "\n",
    "- Built initial signals like `buy_pressure`, `bid_ask_ratio`, and rolling features.\n",
    "- Applied time-based validation split to simulate real-world scenario.\n",
    "- CatBoost baseline achieved a Pearson correlation of ~0.10885.\n",
    "- Next step: test inference and submission file in the final notebook."
   ]
  }
 ],
 "metadata": {
  "kernelspec": {
   "display_name": "Python 3",
   "language": "python",
   "name": "python3"
  },
  "language_info": {
   "codemirror_mode": {
    "name": "ipython",
    "version": 3
   },
   "file_extension": ".py",
   "mimetype": "text/x-python",
   "name": "python",
   "nbconvert_exporter": "python",
   "pygments_lexer": "ipython3",
   "version": "3.13.4"
  }
 },
 "nbformat": 4,
 "nbformat_minor": 5
}
