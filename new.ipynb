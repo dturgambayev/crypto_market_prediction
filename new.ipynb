{
 "cells": [
  {
   "cell_type": "code",
   "execution_count": 2,
   "id": "c622c070",
   "metadata": {},
   "outputs": [],
   "source": [
    "# submission_and_analysis.ipynb (Leaderboard-aware version)\n",
    "import pandas as pd\n",
    "import numpy as np\n",
    "from sklearn.decomposition import PCA\n",
    "from sklearn.metrics import r2_score\n",
    "from scipy.stats import pearsonr\n",
    "from catboost import CatBoostRegressor"
   ]
  },
  {
   "cell_type": "code",
   "execution_count": 3,
   "id": "c14296e9",
   "metadata": {},
   "outputs": [],
   "source": [
    "# === LOAD DATA ===\n",
    "train = pd.read_parquet(\"data/train.parquet\")\n",
    "test = pd.read_parquet(\"data/test.parquet\")"
   ]
  },
  {
   "cell_type": "code",
   "execution_count": 4,
   "id": "efc13c19",
   "metadata": {},
   "outputs": [],
   "source": [
    "# === FEATURE ENGINEERING (NO LEAKING) ===\n",
    "def make_features(df):\n",
    "    df = df.copy()\n",
    "    \n",
    "    # Classic handcrafted features\n",
    "    df['liq_imbalance'] = (df['bid_qty'] - df['ask_qty']) / (df['bid_qty'] + df['ask_qty'] + 1e-5)\n",
    "    df['order_pressure'] = df['buy_qty'] - df['sell_qty']\n",
    "    df['aggressiveness'] = (df['buy_qty'] + df['sell_qty']) / (df['bid_qty'] + df['ask_qty'] + 1e-5)\n",
    "\n",
    "    # Shift to prevent leakage\n",
    "    df['volatility_5'] = df['volume'].shift(1).rolling(5, min_periods=1).std()\n",
    "    df['mean_pressure_3'] = df['order_pressure'].shift(1).rolling(3, min_periods=1).mean()\n",
    "\n",
    "    # PCA on X features (only on train!)\n",
    "    X_cols = [col for col in df.columns if col.startswith(\"X\")]\n",
    "    return df, X_cols"
   ]
  },
  {
   "cell_type": "code",
   "execution_count": 5,
   "id": "fc2112a2",
   "metadata": {},
   "outputs": [],
   "source": [
    "# Apply feature engineering\n",
    "train, X_cols = make_features(train)"
   ]
  },
  {
   "cell_type": "code",
   "execution_count": 8,
   "id": "ac18111c",
   "metadata": {},
   "outputs": [],
   "source": [
    "# Time-based train/val split using datetime index\n",
    "train = train.dropna()\n",
    "\n",
    "# Convert DatetimeIndex to int for quantile, then back to Timestamp\n",
    "cutoff = pd.to_datetime(np.quantile(train.index.astype(np.int64), 0.8))\n",
    "\n",
    "train_df = train[train.index <= cutoff]\n",
    "val_df = train[train.index > cutoff]"
   ]
  },
  {
   "cell_type": "code",
   "execution_count": 9,
   "id": "a9433e00",
   "metadata": {},
   "outputs": [],
   "source": [
    "# PCA: fit on train, transform both\n",
    "pca = PCA(n_components=10)\n",
    "pca_train = pca.fit_transform(train_df[X_cols])\n",
    "pca_val = pca.transform(val_df[X_cols])"
   ]
  },
  {
   "cell_type": "code",
   "execution_count": 11,
   "id": "3a8caf7d",
   "metadata": {},
   "outputs": [],
   "source": [
    "train_df = train[train.index <= cutoff].dropna().copy()\n",
    "val_df = train[train.index > cutoff].dropna().copy()\n",
    "for i in range(10):\n",
    "    train_df[f'pca_{i}'] = pca_train[:, i]\n",
    "    val_df[f'pca_{i}'] = pca_val[:, i]"
   ]
  },
  {
   "cell_type": "code",
   "execution_count": 12,
   "id": "944e1dea",
   "metadata": {},
   "outputs": [],
   "source": [
    "# Combine all features\n",
    "used_features = ['liq_imbalance', 'order_pressure', 'aggressiveness', 'volatility_5', 'mean_pressure_3'] + [f'pca_{i}' for i in range(10)]\n",
    "\n",
    "X_train = train_df[used_features]\n",
    "y_train = train_df['label']\n",
    "X_val = val_df[used_features]\n",
    "y_val = val_df['label']"
   ]
  },
  {
   "cell_type": "code",
   "execution_count": 13,
   "id": "f60b75d9",
   "metadata": {},
   "outputs": [
    {
     "name": "stdout",
     "output_type": "stream",
     "text": [
      "0:\tlearn: 1.0017618\ttest: 1.0406042\tbest: 1.0406042 (0)\ttotal: 195ms\tremaining: 3m 14s\n",
      "100:\tlearn: 0.9810510\ttest: 1.0434104\tbest: 1.0406042 (0)\ttotal: 3.12s\tremaining: 27.8s\n",
      "Stopped by overfitting detector  (100 iterations wait)\n",
      "\n",
      "bestTest = 1.040604152\n",
      "bestIteration = 0\n",
      "\n",
      "Shrink model to first 1 iterations.\n"
     ]
    },
    {
     "data": {
      "text/plain": [
       "<catboost.core.CatBoostRegressor at 0x1b527be06e0>"
      ]
     },
     "execution_count": 13,
     "metadata": {},
     "output_type": "execute_result"
    }
   ],
   "source": [
    "# Train CatBoost\n",
    "model = CatBoostRegressor(\n",
    "    iterations=1000,\n",
    "    learning_rate=0.03,\n",
    "    depth=6,\n",
    "    l2_leaf_reg=3,\n",
    "    early_stopping_rounds=100,\n",
    "    verbose=100\n",
    ")\n",
    "model.fit(X_train, y_train, eval_set=(X_val, y_val))"
   ]
  },
  {
   "cell_type": "code",
   "execution_count": 14,
   "id": "f017146b",
   "metadata": {},
   "outputs": [
    {
     "name": "stdout",
     "output_type": "stream",
     "text": [
      "Validation Pearson Correlation: -0.02944\n"
     ]
    }
   ],
   "source": [
    "# Validation\n",
    "y_pred = model.predict(X_val)\n",
    "val_pearson = pearsonr(y_val, y_pred)[0]\n",
    "print(f\"Validation Pearson Correlation: {val_pearson:.5f}\")"
   ]
  },
  {
   "cell_type": "code",
   "execution_count": 16,
   "id": "68fb8753",
   "metadata": {},
   "outputs": [
    {
     "name": "stdout",
     "output_type": "stream",
     "text": [
      "✅ submission_test.csv saved.\n"
     ]
    }
   ],
   "source": [
    "# === SUBMISSION ===\n",
    "# Apply feature pipeline to test\n",
    "\n",
    "test, _ = make_features(test)\n",
    "test_pca = pca.transform(test[X_cols])\n",
    "for i in range(10):\n",
    "    test[f'pca_{i}'] = test_pca[:, i]\n",
    "\n",
    "X_test = test[used_features]\n",
    "test['prediction'] = model.predict(X_test)\n",
    "\n",
    "submission = pd.DataFrame({\n",
    "    'ID': np.arange(1, len(test) + 1),\n",
    "    'prediction': test['prediction']\n",
    " })\n",
    "submission.to_csv(\"submission_test.csv\", index=False)\n",
    "print(\"✅ submission_test.csv saved.\")"
   ]
  },
  {
   "cell_type": "code",
   "execution_count": null,
   "id": "2b5c09af",
   "metadata": {},
   "outputs": [],
   "source": []
  }
 ],
 "metadata": {
  "kernelspec": {
   "display_name": "Python 3",
   "language": "python",
   "name": "python3"
  },
  "language_info": {
   "codemirror_mode": {
    "name": "ipython",
    "version": 3
   },
   "file_extension": ".py",
   "mimetype": "text/x-python",
   "name": "python",
   "nbconvert_exporter": "python",
   "pygments_lexer": "ipython3",
   "version": "3.13.4"
  }
 },
 "nbformat": 4,
 "nbformat_minor": 5
}
