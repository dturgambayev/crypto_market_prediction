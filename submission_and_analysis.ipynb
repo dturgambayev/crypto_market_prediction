{
 "cells": [
  {
   "cell_type": "markdown",
   "id": "b3c3aec9",
   "metadata": {},
   "source": [
    "### Overview\n",
    "In this notebook, we finalize our modeling pipeline and prepare the submission file for the DRW Crypto Market Prediction competition.\n",
    "We also include a brief statistical analysis of our predictions to better understand the model's behavior before submission."
   ]
  },
  {
   "cell_type": "markdown",
   "id": "bbdeff58",
   "metadata": {},
   "source": [
    "### Feature Set Used\n",
    "The following features were used, based on their signal strength and domain logic:\n",
    "\n",
    "buy_pressure: Buy volume normalized against total trade size\n",
    "\n",
    "bid_ask_ratio: Depth imbalance at the best price levels\n",
    "\n",
    "volume_rolling_mean_10: Smoothed trade volume\n",
    "\n",
    "buy_pressure_rolling_std_10: Volatility in buy pressure\n",
    "\n",
    "rolling_mean_5: Short-term average volume\n",
    "\n",
    "log_volume: Scaled total volume\n",
    "\n",
    "delta_bid_ask: Absolute imbalance\n",
    "\n",
    "order_imbalance: Relative bid-ask difference\n",
    "\n",
    "volatility_5: Short-term volume volatility\n",
    "\n",
    "buy_pressure_x_bidask: Nonlinear signal\n",
    "\n",
    "volume_to_volatility: Liquidity-adjusted volume"
   ]
  },
  {
   "cell_type": "code",
   "execution_count": 1,
   "id": "99e8a853",
   "metadata": {},
   "outputs": [],
   "source": [
    "import pandas as pd\n",
    "import numpy as np\n",
    "from catboost import CatBoostRegressor\n",
    "import seaborn as sns\n",
    "import matplotlib.pyplot as plt"
   ]
  },
  {
   "cell_type": "markdown",
   "id": "3ba66d71",
   "metadata": {},
   "source": [
    "### Load Prepared Data"
   ]
  },
  {
   "cell_type": "code",
   "execution_count": 9,
   "id": "55127735",
   "metadata": {},
   "outputs": [],
   "source": [
    "train = pd.read_parquet(\"data/train.parquet\")\n",
    "test = pd.read_parquet(\"data/test.parquet\")"
   ]
  },
  {
   "cell_type": "code",
   "execution_count": 12,
   "id": "c9c3d287",
   "metadata": {},
   "outputs": [],
   "source": [
    "def add_features(df):\n",
    "    df['buy_pressure'] = df['buy_qty'] / (df['buy_qty'] + df['sell_qty'] + 1e-5)\n",
    "    df['bid_ask_ratio'] = df['bid_qty'] / (df['bid_qty'] + df['ask_qty'] + 1e-5)\n",
    "\n",
    "    df['volume_rolling_mean_10'] = df['volume'].shift(1).rolling(10).mean()\n",
    "    df['buy_pressure_rolling_std_10'] = df['buy_pressure'].shift(1).rolling(10).std()\n",
    "    df['rolling_mean_5'] = df['volume'].shift(1).rolling(5).mean()\n",
    "\n",
    "    df['log_volume'] = np.log1p(df['volume'])\n",
    "    df['delta_bid_ask'] = df['bid_qty'] - df['ask_qty']\n",
    "    df['order_imbalance'] = (df['bid_qty'] - df['ask_qty']) / (df['bid_qty'] + df['ask_qty'] + 1e-5)\n",
    "    df['volatility_5'] = df['volume'].shift(1).rolling(5).std()\n",
    "\n",
    "    df['buy_pressure_x_bidask'] = df['buy_pressure'] * df['bid_ask_ratio']\n",
    "    df['volume_to_volatility'] = df['volume'] / (df['volatility_5'] + 1e-5)\n",
    "\n",
    "    return df"
   ]
  },
  {
   "cell_type": "code",
   "execution_count": 13,
   "id": "f2a7110c",
   "metadata": {},
   "outputs": [],
   "source": [
    "train = add_features(train)\n",
    "test = add_features(test)"
   ]
  },
  {
   "cell_type": "markdown",
   "id": "b542cf7f",
   "metadata": {},
   "source": [
    "### Define Feature Set Used in Model"
   ]
  },
  {
   "cell_type": "code",
   "execution_count": 14,
   "id": "795bd9c4",
   "metadata": {},
   "outputs": [],
   "source": [
    "features = [\n",
    "    'buy_pressure',\n",
    "    'bid_ask_ratio',\n",
    "    'volume_rolling_mean_10',\n",
    "    'buy_pressure_rolling_std_10',\n",
    "    'rolling_mean_5',\n",
    "    'log_volume',\n",
    "    'delta_bid_ask',\n",
    "    'order_imbalance',\n",
    "    'volatility_5',\n",
    "    'buy_pressure_x_bidask',\n",
    "    'volume_to_volatility'\n",
    "]\n",
    "\n",
    "# Drop missing values and separate features/target\n",
    "full_train = train[features + ['label']].dropna()\n",
    "X_full = full_train[features]\n",
    "y_full = full_train['label']"
   ]
  },
  {
   "cell_type": "markdown",
   "id": "e38e4d45",
   "metadata": {},
   "source": [
    "### Define and Train the Final Model"
   ]
  },
  {
   "cell_type": "code",
   "execution_count": 15,
   "id": "638deec0",
   "metadata": {},
   "outputs": [
    {
     "name": "stdout",
     "output_type": "stream",
     "text": [
      "0:\tlearn: 0.6386595\ttotal: 69.7ms\tremaining: 2m 19s\n",
      "100:\tlearn: 0.6378865\ttotal: 5.51s\tremaining: 1m 43s\n",
      "200:\tlearn: 0.6374375\ttotal: 11s\tremaining: 1m 38s\n",
      "300:\tlearn: 0.6371274\ttotal: 16.4s\tremaining: 1m 32s\n",
      "400:\tlearn: 0.6368451\ttotal: 21.9s\tremaining: 1m 27s\n",
      "500:\tlearn: 0.6366004\ttotal: 27.3s\tremaining: 1m 21s\n",
      "600:\tlearn: 0.6363556\ttotal: 32.6s\tremaining: 1m 15s\n",
      "700:\tlearn: 0.6361150\ttotal: 38s\tremaining: 1m 10s\n",
      "800:\tlearn: 0.6359030\ttotal: 43.4s\tremaining: 1m 5s\n",
      "900:\tlearn: 0.6356949\ttotal: 48.8s\tremaining: 59.5s\n",
      "1000:\tlearn: 0.6354947\ttotal: 54.2s\tremaining: 54.1s\n",
      "1100:\tlearn: 0.6352883\ttotal: 59.6s\tremaining: 48.7s\n",
      "1200:\tlearn: 0.6350874\ttotal: 1m 5s\tremaining: 43.3s\n",
      "1300:\tlearn: 0.6348826\ttotal: 1m 10s\tremaining: 37.9s\n",
      "1400:\tlearn: 0.6346347\ttotal: 1m 15s\tremaining: 32.4s\n",
      "1500:\tlearn: 0.6343621\ttotal: 1m 21s\tremaining: 27s\n",
      "1600:\tlearn: 0.6340707\ttotal: 1m 26s\tremaining: 21.6s\n",
      "1700:\tlearn: 0.6337985\ttotal: 1m 31s\tremaining: 16.2s\n",
      "1800:\tlearn: 0.6335526\ttotal: 1m 37s\tremaining: 10.8s\n",
      "1900:\tlearn: 0.6333060\ttotal: 1m 42s\tremaining: 5.35s\n",
      "1999:\tlearn: 0.6330624\ttotal: 1m 48s\tremaining: 0us\n"
     ]
    },
    {
     "data": {
      "text/plain": [
       "<catboost.core.CatBoostRegressor at 0x12a79e23610>"
      ]
     },
     "execution_count": 15,
     "metadata": {},
     "output_type": "execute_result"
    }
   ],
   "source": [
    "model = CatBoostRegressor(\n",
    "    iterations=2000,\n",
    "    learning_rate=0.01,\n",
    "    depth=8,\n",
    "    loss_function='MAE',\n",
    "    eval_metric='MAE',\n",
    "    early_stopping_rounds=200,\n",
    "    verbose=100,\n",
    "    random_seed=42,\n",
    "    task_type='CPU'\n",
    ")\n",
    "\n",
    "model.fit(X_full, y_full)"
   ]
  },
  {
   "cell_type": "markdown",
   "id": "d63c3d58",
   "metadata": {},
   "source": [
    "### Make Predictions on Test Set"
   ]
  },
  {
   "cell_type": "code",
   "execution_count": 16,
   "id": "65ac5c70",
   "metadata": {},
   "outputs": [],
   "source": [
    "X_test = test[features].copy()\n",
    "test_preds = model.predict(X_test)"
   ]
  },
  {
   "cell_type": "markdown",
   "id": "351df322",
   "metadata": {},
   "source": [
    "### Save Predictions in Required Submission Format"
   ]
  },
  {
   "cell_type": "code",
   "execution_count": 19,
   "id": "ca9986f6",
   "metadata": {},
   "outputs": [
    {
     "name": "stdout",
     "output_type": "stream",
     "text": [
      "✅ submission.csv saved.\n"
     ]
    }
   ],
   "source": [
    "submission = pd.DataFrame({\n",
    "    'ID': np.arange(1, len(test_preds) + 1),\n",
    "    'prediction': test_preds\n",
    "})\n",
    "submission.to_csv(\"data/submission.csv\", index=False)\n",
    "print(\"✅ submission.csv saved.\")"
   ]
  },
  {
   "cell_type": "markdown",
   "id": "3addeb8b",
   "metadata": {},
   "source": [
    "### Analyze Prediction Distribution"
   ]
  },
  {
   "cell_type": "code",
   "execution_count": 18,
   "id": "4942a835",
   "metadata": {},
   "outputs": [
    {
     "data": {
      "image/png": "[encoded data removed]",
      "text/plain": [
       "<Figure size 640x480 with 1 Axes>"
      ]
     },
     "metadata": {},
     "output_type": "display_data"
    }
   ],
   "source": [
    "sns.histplot(submission['prediction'], bins=50, kde=True)\n",
    "plt.title(\"Distribution of Test Predictions\")\n",
    "plt.xlabel(\"Prediction\")\n",
    "plt.ylabel(\"Frequency\")\n",
    "plt.grid(True)\n",
    "plt.show()"
   ]
  },
  {
   "cell_type": "markdown",
   "id": "57016363",
   "metadata": {},
   "source": [
    "## Observations\n",
    "- Predictions are centered around 0, with moderate variance\n",
    "- Long tails in both directions suggest sensitivity to outlier signals\n",
    "- Distribution roughly resembles the training target shape\n",
    "\n",
    "## Notes\n",
    "- Model used: CatBoost with MAE objective, 2000 iterations\n",
    "- Trained on full data using best engineered features\n",
    "- Correlation on validation set previously reached ~0.10885\n",
    "- Final test predictions saved as submission.csv with required structure"
   ]
  }
 ],
 "metadata": {
  "kernelspec": {
   "display_name": "Python 3",
   "language": "python",
   "name": "python3"
  },
  "language_info": {
   "codemirror_mode": {
    "name": "ipython",
    "version": 3
   },
   "file_extension": ".py",
   "mimetype": "text/x-python",
   "name": "python",
   "nbconvert_exporter": "python",
   "pygments_lexer": "ipython3",
   "version": "3.13.4"
  }
 },
 "nbformat": 4,
 "nbformat_minor": 5
}
